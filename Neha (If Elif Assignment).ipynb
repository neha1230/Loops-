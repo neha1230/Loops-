{
 "cells": [
  {
   "cell_type": "markdown",
   "metadata": {},
   "source": [
    "# Greatest among three numbers"
   ]
  },
  {
   "cell_type": "code",
   "execution_count": 1,
   "metadata": {},
   "outputs": [
    {
     "name": "stdout",
     "output_type": "stream",
     "text": [
      "enter a45\n",
      "enter b56\n",
      "enter c23\n",
      "23 is greater\n"
     ]
    }
   ],
   "source": [
    "a=int(input(\"enter a\"))\n",
    "b=int(input(\"enter b\"))\n",
    "c=int(input(\"enter c\"))\n",
    "if a>b and b>c:\n",
    " print(a, \"a is greater\")\n",
    "elif(b>c and c>a):\n",
    " print(b, \"is greater\")\n",
    "else :\n",
    " print (c,\"is greater\")\n",
    "        "
   ]
  },
  {
   "cell_type": "markdown",
   "metadata": {},
   "source": [
    "# Take student name and score and class stength as input from the user and print the name and score of a student who got highest marks"
   ]
  },
  {
   "cell_type": "code",
   "execution_count": 3,
   "metadata": {},
   "outputs": [
    {
     "name": "stdout",
     "output_type": "stream",
     "text": [
      "Enter the number of students: 3\n",
      "Enter the name of the student: abc\n",
      "Enter the score of the student:  12\n",
      "Enter the name of the student: vbh\n",
      "Enter the score of the student:  45\n",
      "45\n",
      "vbh\n",
      "Enter the name of the student: ghg\n",
      "Enter the score of the student:  78\n",
      "78\n",
      "ghg\n",
      "ghg is the top student with a score of  78\n"
     ]
    }
   ],
   "source": [
    "n = eval(input(\"Enter the number of students: \"))\n",
    "stdt_name = input(\"Enter the name of the student: \")\n",
    "score = eval(input(\"Enter the score of the student:  \"))\n",
    "\n",
    "for i in range(n-1):\n",
    "    stdt_name1 = input(\"Enter the name of the student: \")\n",
    "    score1 = eval(input(\"Enter the score of the student:  \"))\n",
    "    \n",
    "    if score1>score:\n",
    "        score = score1\n",
    "        print(score)\n",
    "        stdt_name = stdt_name1\n",
    "        print(stdt_name)\n",
    "    \n",
    "print(stdt_name + \" is the top student with a score of \" , score)\n"
   ]
  },
  {
   "cell_type": "markdown",
   "metadata": {},
   "source": [
    "# entered no by the user is positive or not¶"
   ]
  },
  {
   "cell_type": "code",
   "execution_count": 4,
   "metadata": {},
   "outputs": [
    {
     "name": "stdout",
     "output_type": "stream",
     "text": [
      "Enter No:-6\n",
      "number is negative\n"
     ]
    }
   ],
   "source": [
    "a= float(input(\"Enter No:\" ))\n",
    "if a>0:\n",
    "    print(\"Number is positive \")\n",
    "elif a == 0:\n",
    "    print(\"number is zero\")\n",
    "else:\n",
    "    print(\"number is negative\")"
   ]
  },
  {
   "cell_type": "markdown",
   "metadata": {},
   "source": [
    "# Sandwich program : "
   ]
  },
  {
   "cell_type": "code",
   "execution_count": 5,
   "metadata": {},
   "outputs": [
    {
     "name": "stdout",
     "output_type": "stream",
     "text": [
      "welcome to Our Shop ! Please choose your order /n \n",
      "Type C for cheese and V for veggie: C\n",
      "\n",
      " please select cheese type\n",
      " 'c' for cheddar and 'm' for machegom\n",
      "\n",
      "here is your machengo\n",
      "\n",
      " Good Day !\n"
     ]
    }
   ],
   "source": [
    "print(\"welcome to Our Shop ! Please choose your order /n \")\n",
    "sandwich=  input (\"Type C for cheese and V for veggie: \")\n",
    "print()\n",
    "if sandwich.lower() == 'c':\n",
    "    print(\" please select cheese type\")\n",
    "    choice= input (\" 'c' for cheddar and 'm' for machego\")\n",
    "    print()\n",
    "    if choice.lower() == 'c':\n",
    "     print(\"here is your cheese sandwich\")\n",
    "    elif choice.lower() == 'm':\n",
    "     print(\"here is your machengo\")     \n",
    "    else: \n",
    "     print(\" sorry we d'nt have type the cheese sandwich you ordered today\")\n",
    "elif sandwich.lower() == 'v':\n",
    "    print(\"  here is your veggiee\")\n",
    "else:\n",
    "    print(\" sorry we d'nt have type the cheese sandwich you ordered today\")\n",
    "print()\n",
    "print(\" Good Day !\")\n",
    "    \n"
   ]
  },
  {
   "cell_type": "markdown",
   "metadata": {},
   "source": [
    "# Find the color of box of a player on a chess board"
   ]
  },
  {
   "cell_type": "code",
   "execution_count": 6,
   "metadata": {},
   "outputs": [
    {
     "name": "stdout",
     "output_type": "stream",
     "text": [
      " lets find the place of player on a chess board\n",
      "Enter aphabets a,b,c,d,e,f,g,h :e\n",
      "Enter Number of your choice 1,2,3,4,5,6,7,8 :4\n",
      "player is in white box\n"
     ]
    }
   ],
   "source": [
    "print (\" lets find the place of player on a chess board\")\n",
    "alphabets= input (\"Enter aphabets a,b,c,d,e,f,g,h :\")\n",
    "numbers = input (\"Enter Number of your choice 1,2,3,4,5,6,7,8 :\" )\n",
    "if alphabets.lower() in ('b','d','f','h') and numbers in ('2','4','6','8'):\n",
    " print(\" player is in black box\")\n",
    "else :\n",
    "    print(\"player is in white box\")"
   ]
  },
  {
   "cell_type": "markdown",
   "metadata": {},
   "source": [
    "# Program to print the entered alphabet is vowel or consonant and also print Sometimes letter y stand for vowel, sometimes stand for consonant."
   ]
  },
  {
   "cell_type": "code",
   "execution_count": 7,
   "metadata": {},
   "outputs": [
    {
     "name": "stdout",
     "output_type": "stream",
     "text": [
      "Input any alphabet: g\n",
      "g is a consonant.\n"
     ]
    }
   ],
   "source": [
    "letter = input(\"Input any alphabet: \")\n",
    "\n",
    "if letter in ('a', 'e', 'i', 'o', 'u'):\n",
    "  print(\"%s is a vowel.\" % letter)\n",
    "elif letter == 'y':\n",
    "  print(\"Sometimes letter y stand for vowel, sometimes stand for consonant.\")\n",
    "else:\n",
    "\n",
    "    print(\"%s is a consonant.\" % letter) \n"
   ]
  },
  {
   "cell_type": "markdown",
   "metadata": {},
   "source": [
    "# Leap Year"
   ]
  },
  {
   "cell_type": "code",
   "execution_count": 8,
   "metadata": {},
   "outputs": [
    {
     "name": "stdout",
     "output_type": "stream",
     "text": [
      "enter year2000\n",
      "leap year\n"
     ]
    }
   ],
   "source": [
    "a=int(input(\"enter year\"))\n",
    "if a % 400 == 0:\n",
    "    print(\"leap year\")\n",
    "elif a%100 ==0:\n",
    "  print('not a leap year')\n",
    "elif a%4 == 0:\n",
    "  print(\"leap year\")\n",
    "else:\n",
    " print(\"not a a leap year\")\n"
   ]
  },
  {
   "cell_type": "markdown",
   "metadata": {},
   "source": [
    "# example of prime no on an interval"
   ]
  },
  {
   "cell_type": "code",
   "execution_count": 9,
   "metadata": {},
   "outputs": [
    {
     "name": "stdout",
     "output_type": "stream",
     "text": [
      "enter the lower range :20\n",
      "enter the upper range :50\n",
      "Prime numbers between 20 and 50 are:\n",
      "23\n",
      "29\n",
      "31\n",
      "37\n",
      "41\n",
      "43\n",
      "47\n"
     ]
    }
   ],
   "source": [
    "lower = int(input(\"enter the lower range :\"))\n",
    "upper = int(input(\"enter the upper range :\"))\n",
    "\n",
    "\n",
    "print(\"Prime numbers between\",lower,\"and\",upper,\"are:\")\n",
    "\n",
    "for num in range(lower,upper + 1):\n",
    " #print (lower,upper)\n",
    "   # prime numbers are greater than 1\n",
    " if num > 1:\n",
    "    for i in range(2,num):\n",
    "        if (num % i) == 0:\n",
    "               break\n",
    "    else:\n",
    "           print(num)"
   ]
  },
  {
   "cell_type": "markdown",
   "metadata": {},
   "source": [
    "# program of fibonacci  series using for loop"
   ]
  },
  {
   "cell_type": "code",
   "execution_count": 10,
   "metadata": {},
   "outputs": [
    {
     "name": "stdout",
     "output_type": "stream",
     "text": [
      "enter number,'n':7\n",
      "1\n",
      "1\n",
      "2\n",
      "3\n",
      "5\n",
      "8\n",
      "13\n",
      "series of fabonacci (3) is 13\n"
     ]
    }
   ],
   "source": [
    "a=int(input(\"enter number,'n':\"))\n",
    "prev=1\n",
    "now=0\n",
    "\n",
    "for i in range (a):\n",
    "    temp=prev\n",
    "   # print(temp)\n",
    "    prev= now\n",
    "    #print(now)\n",
    "    now= temp + now\n",
    "    print(now)\n",
    "    \n",
    "print (\"series of fabonacci (\"+ str(n) +\") is\", now)\n"
   ]
  },
  {
   "cell_type": "markdown",
   "metadata": {},
   "source": [
    "# Ask user upper and lower limit and find the total no. between series divisible by the two number entered by the users"
   ]
  },
  {
   "cell_type": "code",
   "execution_count": 11,
   "metadata": {},
   "outputs": [
    {
     "name": "stdout",
     "output_type": "stream",
     "text": [
      "Enter lower range limit:30\n",
      "Enter upper range limit:60\n",
      "Enter the first number to be divided by:4\n",
      "enter the second number to divide 6\n",
      "36 48 60 "
     ]
    }
   ],
   "source": [
    "lower=int(input(\"Enter lower range limit:\"))\n",
    "upper=int(input(\"Enter upper range limit:\"))\n",
    "n=int(input(\"Enter the first number to be divided by:\"))\n",
    "s=int(input(\"enter the second number to divide \"))\n",
    "\n",
    "for i in range(lower,upper+1):\n",
    "    if(i%n==0 and i%s==0):\n",
    "        \n",
    "        print(i, end=' ')"
   ]
  },
  {
   "cell_type": "markdown",
   "metadata": {},
   "source": [
    "# Print output in the form of list"
   ]
  },
  {
   "cell_type": "code",
   "execution_count": 12,
   "metadata": {},
   "outputs": [
    {
     "name": "stdout",
     "output_type": "stream",
     "text": [
      "Enter the lower range:34\n",
      "Enter the upper range:77\n",
      "[35, 70]\n"
     ]
    }
   ],
   "source": [
    "l=[]\n",
    "\n",
    "\n",
    "lower=int(input(\"Enter the lower range:\"))\n",
    "upper=int(input(\"Enter the upper range:\"))\n",
    "for i in range (lower,upper+1):\n",
    "    if(i%5==0 and i%7==0):\n",
    "       \n",
    "        l.append(i)\n",
    "print(l)"
   ]
  },
  {
   "cell_type": "markdown",
   "metadata": {},
   "source": [
    "# Swap two numbers"
   ]
  },
  {
   "cell_type": "code",
   "execution_count": 14,
   "metadata": {},
   "outputs": [
    {
     "name": "stdout",
     "output_type": "stream",
     "text": [
      "Enter First Number: 4\n",
      "Enter Second Number: 6\n",
      "Value of a : 4\n",
      "Value of b: 6\n",
      "Value of a after swapping:  6\n",
      "Value of b after swapping:  4\n"
     ]
    }
   ],
   "source": [
    "a = input('Enter First Number: ')\n",
    "b = input('Enter Second Number: ')\n",
    "\n",
    "print(\"Value of a :\",a)\n",
    "print(\"Value of b:\", b)\n",
    "\n",
    "temp = a\n",
    "a = b\n",
    "b = temp\n",
    "\n",
    "print(\"Value of a after swapping: \", a)\n",
    "print(\"Value of b after swapping: \", b)\n"
   ]
  },
  {
   "cell_type": "code",
   "execution_count": null,
   "metadata": {},
   "outputs": [],
   "source": []
  }
 ],
 "metadata": {
  "kernelspec": {
   "display_name": "Python 3",
   "language": "python",
   "name": "python3"
  },
  "language_info": {
   "codemirror_mode": {
    "name": "ipython",
    "version": 3
   },
   "file_extension": ".py",
   "mimetype": "text/x-python",
   "name": "python",
   "nbconvert_exporter": "python",
   "pygments_lexer": "ipython3",
   "version": "3.6.5"
  }
 },
 "nbformat": 4,
 "nbformat_minor": 2
}
