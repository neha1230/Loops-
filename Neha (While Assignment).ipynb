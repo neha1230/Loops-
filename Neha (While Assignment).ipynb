{
 "cells": [
  {
   "cell_type": "markdown",
   "metadata": {},
   "source": [
    "# Pseudocode \n",
    "1. WELCOME , to Dexlab Data Science Program\n",
    "2. Enter Username and passowrd\n",
    "3. Username and Password matched\n",
    "4. print Welcome User !\n",
    "5. Got to step 13.\n",
    "6. If Username or Passowrd is guest\n",
    "7. print Welcome Guest ! Go to step 13.\n",
    "8. Username & Password not matched,\n",
    "9. Print username or password not matched\n",
    "10. Go to step 2\n",
    "11. Repeat step 10 , three times if username and password not match\n",
    "12. Print invalid user or Try later\n",
    "13. End Program"
   ]
  },
  {
   "cell_type": "code",
   "execution_count": 4,
   "metadata": {},
   "outputs": [
    {
     "name": "stdout",
     "output_type": "stream",
     "text": [
      " WELCOME TO DEXLAB DATA SCIENCE PROGRAM\n",
      "\n",
      "USERNAME :varun\n",
      "PASSWORD :var\n",
      "Hi Varun, Welcome Back !\n"
     ]
    }
   ],
   "source": [
    "print(\" WELCOME TO DEXLAB DATA SCIENCE PROGRAM\")\n",
    "print()\n",
    "attempts=0\n",
    "while attempts<3:\n",
    "    username=input('USERNAME :')\n",
    "    password=input('PASSWORD :')\n",
    "    if username=='neha'and password=='123':\n",
    "        print('Hi Neha, Welcome Back !')\n",
    "        break\n",
    "    elif username=='varun' and password==\"var\":\n",
    "        print(\"Hi Varun, Welcome Back !\")\n",
    "        break\n",
    "    elif username == 'sagar' and password=='sag':\n",
    "        print(\"Hi Sagar, Welcome Back  !\")\n",
    "        break\n",
    "    elif username=='guest' or password=='guest':\n",
    "        print(\"Welcome Guest, Please start your course !\")\n",
    "        break\n",
    "    else:\n",
    "        attempts+=1\n",
    "        print('incorrect, Please enter correct credentials!')\n",
    "        print()\n",
    "    if attempts==3:\n",
    "            print('Too many attempts, Please try after sometimes')"
   ]
  },
  {
   "cell_type": "code",
   "execution_count": null,
   "metadata": {},
   "outputs": [],
   "source": []
  }
 ],
 "metadata": {
  "kernelspec": {
   "display_name": "Python 3",
   "language": "python",
   "name": "python3"
  },
  "language_info": {
   "codemirror_mode": {
    "name": "ipython",
    "version": 3
   },
   "file_extension": ".py",
   "mimetype": "text/x-python",
   "name": "python",
   "nbconvert_exporter": "python",
   "pygments_lexer": "ipython3",
   "version": "3.6.5"
  }
 },
 "nbformat": 4,
 "nbformat_minor": 2
}
